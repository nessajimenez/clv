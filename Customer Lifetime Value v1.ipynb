{
 "cells": [
  {
   "cell_type": "code",
   "execution_count": 1,
   "id": "a449d821",
   "metadata": {},
   "outputs": [],
   "source": [
    "#!pip install lifetimes\n",
    "\n",
    "import pandas as pd\n",
    "import numpy as np\n",
    "\n",
    "import pymysql\n",
    "from sqlalchemy import create_engine\n",
    "from sqlalchemy import text\n",
    "import pandas as pd\n",
    "import getpass\n",
    "\n",
    "import matplotlib.pyplot as plt\n",
    "import seaborn as sns\n",
    "from scipy.stats import kstest, poisson\n",
    "\n",
    "from lifetimes.utils import summary_data_from_transaction_data\n",
    "from lifetimes.utils import calibration_and_holdout_data\n",
    "from lifetimes.plotting import plot_calibration_purchases_vs_holdout_purchases\n",
    "from lifetimes import BetaGeoFitter\n",
    "from lifetimes.plotting import plot_period_transactions\n",
    "from lifetimes import BetaGeoFitter, GammaGammaFitter\n",
    "\n",
    "from sklearn.feature_selection import chi2\n",
    "\n",
    "from sklearn.model_selection import train_test_split, GridSearchCV\n",
    "from sklearn.neighbors import KNeighborsRegressor\n",
    "from sklearn.linear_model import LinearRegression\n",
    "from sklearn import metrics\n",
    "\n",
    "from sklearn.preprocessing import MinMaxScaler, StandardScaler\n",
    "from sklearn.metrics import r2_score, mean_absolute_error, mean_squared_error"
   ]
  },
  {
   "cell_type": "markdown",
   "id": "a0ca53e0",
   "metadata": {},
   "source": [
    "https://archive.ics.uci.edu/dataset/502/online+retail+ii"
   ]
  },
  {
   "cell_type": "markdown",
   "id": "e3256afd",
   "metadata": {},
   "source": [
    "As i reviewed the data further in sql, I decided I will only focus on sales first.\n",
    "\n",
    "suspected returns make up less than 3% of all the transactions."
   ]
  },
  {
   "cell_type": "code",
   "execution_count": 2,
   "id": "b83a92be",
   "metadata": {},
   "outputs": [],
   "source": [
    "df2 = pd.read_csv('sales_data_clean.csv')"
   ]
  },
  {
   "cell_type": "code",
   "execution_count": 3,
   "id": "0840eb9f",
   "metadata": {},
   "outputs": [
    {
     "data": {
      "text/plain": [
       "'2010-12-09 20:01:00'"
      ]
     },
     "execution_count": 3,
     "metadata": {},
     "output_type": "execute_result"
    }
   ],
   "source": [
    "df2.date.max()"
   ]
  },
  {
   "cell_type": "markdown",
   "id": "7031889d",
   "metadata": {},
   "source": [
    "I am using lifetimes to help me produce a basic frequency/recency analysis using the BG/NBD model so I can then use the Gamma-Gamma model to predict CLV."
   ]
  },
  {
   "cell_type": "code",
   "execution_count": 4,
   "id": "b1ab59ab",
   "metadata": {},
   "outputs": [
    {
     "data": {
      "text/html": [
       "<div>\n",
       "<style scoped>\n",
       "    .dataframe tbody tr th:only-of-type {\n",
       "        vertical-align: middle;\n",
       "    }\n",
       "\n",
       "    .dataframe tbody tr th {\n",
       "        vertical-align: top;\n",
       "    }\n",
       "\n",
       "    .dataframe thead th {\n",
       "        text-align: right;\n",
       "    }\n",
       "</style>\n",
       "<table border=\"1\" class=\"dataframe\">\n",
       "  <thead>\n",
       "    <tr style=\"text-align: right;\">\n",
       "      <th></th>\n",
       "      <th>frequency</th>\n",
       "      <th>recency</th>\n",
       "      <th>T</th>\n",
       "      <th>monetary_value</th>\n",
       "    </tr>\n",
       "    <tr>\n",
       "      <th>cust_id</th>\n",
       "      <th></th>\n",
       "      <th></th>\n",
       "      <th></th>\n",
       "      <th></th>\n",
       "    </tr>\n",
       "  </thead>\n",
       "  <tbody>\n",
       "    <tr>\n",
       "      <th>12346</th>\n",
       "      <td>6.0</td>\n",
       "      <td>196.0</td>\n",
       "      <td>382.0</td>\n",
       "      <td>47.143333</td>\n",
       "    </tr>\n",
       "    <tr>\n",
       "      <th>12347</th>\n",
       "      <td>1.0</td>\n",
       "      <td>37.0</td>\n",
       "      <td>61.0</td>\n",
       "      <td>711.790000</td>\n",
       "    </tr>\n",
       "    <tr>\n",
       "      <th>12348</th>\n",
       "      <td>0.0</td>\n",
       "      <td>0.0</td>\n",
       "      <td>95.0</td>\n",
       "      <td>0.000000</td>\n",
       "    </tr>\n",
       "    <tr>\n",
       "      <th>12349</th>\n",
       "      <td>2.0</td>\n",
       "      <td>182.0</td>\n",
       "      <td>246.0</td>\n",
       "      <td>801.310000</td>\n",
       "    </tr>\n",
       "    <tr>\n",
       "      <th>12351</th>\n",
       "      <td>0.0</td>\n",
       "      <td>0.0</td>\n",
       "      <td>32.0</td>\n",
       "      <td>0.000000</td>\n",
       "    </tr>\n",
       "    <tr>\n",
       "      <th>...</th>\n",
       "      <td>...</td>\n",
       "      <td>...</td>\n",
       "      <td>...</td>\n",
       "      <td>...</td>\n",
       "    </tr>\n",
       "    <tr>\n",
       "      <th>18283</th>\n",
       "      <td>4.0</td>\n",
       "      <td>276.0</td>\n",
       "      <td>315.0</td>\n",
       "      <td>135.105000</td>\n",
       "    </tr>\n",
       "    <tr>\n",
       "      <th>18284</th>\n",
       "      <td>0.0</td>\n",
       "      <td>0.0</td>\n",
       "      <td>88.0</td>\n",
       "      <td>0.000000</td>\n",
       "    </tr>\n",
       "    <tr>\n",
       "      <th>18285</th>\n",
       "      <td>0.0</td>\n",
       "      <td>0.0</td>\n",
       "      <td>317.0</td>\n",
       "      <td>0.000000</td>\n",
       "    </tr>\n",
       "    <tr>\n",
       "      <th>18286</th>\n",
       "      <td>1.0</td>\n",
       "      <td>247.0</td>\n",
       "      <td>380.0</td>\n",
       "      <td>833.480000</td>\n",
       "    </tr>\n",
       "    <tr>\n",
       "      <th>18287</th>\n",
       "      <td>2.0</td>\n",
       "      <td>189.0</td>\n",
       "      <td>228.0</td>\n",
       "      <td>637.050000</td>\n",
       "    </tr>\n",
       "  </tbody>\n",
       "</table>\n",
       "<p>4314 rows × 4 columns</p>\n",
       "</div>"
      ],
      "text/plain": [
       "         frequency  recency      T  monetary_value\n",
       "cust_id                                           \n",
       "12346          6.0    196.0  382.0       47.143333\n",
       "12347          1.0     37.0   61.0      711.790000\n",
       "12348          0.0      0.0   95.0        0.000000\n",
       "12349          2.0    182.0  246.0      801.310000\n",
       "12351          0.0      0.0   32.0        0.000000\n",
       "...            ...      ...    ...             ...\n",
       "18283          4.0    276.0  315.0      135.105000\n",
       "18284          0.0      0.0   88.0        0.000000\n",
       "18285          0.0      0.0  317.0        0.000000\n",
       "18286          1.0    247.0  380.0      833.480000\n",
       "18287          2.0    189.0  228.0      637.050000\n",
       "\n",
       "[4314 rows x 4 columns]"
      ]
     },
     "execution_count": 4,
     "metadata": {},
     "output_type": "execute_result"
    }
   ],
   "source": [
    "summary = summary_data_from_transaction_data(df2, 'cust_id', 'date',\n",
    "          monetary_value_col='total_price', observation_period_end='2010-12-31')\n",
    "summary"
   ]
  },
  {
   "cell_type": "code",
   "execution_count": 53,
   "id": "0d51aff2",
   "metadata": {},
   "outputs": [
    {
     "data": {
      "text/plain": [
       "<lifetimes.BetaGeoFitter: fitted with 4314 subjects, a: 0.00, alpha: 63.41, b: 0.00, r: 0.69>"
      ]
     },
     "execution_count": 53,
     "metadata": {},
     "output_type": "execute_result"
    }
   ],
   "source": [
    "#fitting model. 0.5 gave me the best model\n",
    "bgf = BetaGeoFitter(penalizer_coef=0.05)\n",
    "bgf.fit(summary['frequency'], summary['recency'], summary['T'])"
   ]
  },
  {
   "cell_type": "code",
   "execution_count": 54,
   "id": "cd5fcb40",
   "metadata": {},
   "outputs": [
    {
     "name": "stdout",
     "output_type": "stream",
     "text": [
      "         frequency  recency      T  monetary_value  pred_purchases\n",
      "cust_id                                                           \n",
      "12346          6.0    196.0  382.0       47.143333            2.73\n",
      "12347          1.0     37.0   61.0      711.790000            2.47\n",
      "12348          0.0      0.0   95.0        0.000000            0.79\n",
      "12349          2.0    182.0  246.0      801.310000            1.58\n",
      "12351          0.0      0.0   32.0        0.000000             NaN\n"
     ]
    },
    {
     "name": "stderr",
     "output_type": "stream",
     "text": [
      "C:\\Users\\NessaJay\\anaconda3\\Lib\\site-packages\\pandas\\core\\arraylike.py:396: RuntimeWarning: invalid value encountered in log\n",
      "  result = getattr(ufunc, method)(*inputs, **kwargs)\n"
     ]
    }
   ],
   "source": [
    "summary['pred_purchases'] = bgf.conditional_expected_number_of_purchases_up_to_time(\n",
    "    182, summary['frequency'], summary['recency'], summary['T']).round(2)\n",
    "print(summary.head())"
   ]
  },
  {
   "cell_type": "code",
   "execution_count": 55,
   "id": "3fca1668",
   "metadata": {},
   "outputs": [],
   "source": [
    "#splitting test and train data\n",
    "calibration_holdout = calibration_and_holdout_data(\n",
    "    df2, 'cust_id', 'date', \n",
    "    calibration_period_end='2010-09-01', \n",
    "    observation_period_end='2010-12-09'\n",
    ")"
   ]
  },
  {
   "cell_type": "code",
   "execution_count": 56,
   "id": "0aee96ef",
   "metadata": {},
   "outputs": [
    {
     "data": {
      "text/plain": [
       "<lifetimes.BetaGeoFitter: fitted with 3323 subjects, a: 0.00, alpha: 54.42, b: 0.01, r: 0.62>"
      ]
     },
     "execution_count": 56,
     "metadata": {},
     "output_type": "execute_result"
    }
   ],
   "source": [
    "#fit model with calibration data\n",
    "bgf.fit(calibration_holdout['frequency_cal'], calibration_holdout['recency_cal'], calibration_holdout['T_cal'])"
   ]
  },
  {
   "cell_type": "code",
   "execution_count": 57,
   "id": "9a60c762",
   "metadata": {},
   "outputs": [
    {
     "name": "stderr",
     "output_type": "stream",
     "text": [
      "C:\\Users\\NessaJay\\anaconda3\\Lib\\site-packages\\pandas\\core\\arraylike.py:396: RuntimeWarning: invalid value encountered in log\n",
      "  result = getattr(ufunc, method)(*inputs, **kwargs)\n"
     ]
    }
   ],
   "source": [
    "calibration_holdout['predicted_purchases_holdout'] = bgf.conditional_expected_number_of_purchases_up_to_time(\n",
    "    100,  # Number of days in the holdout period\n",
    "    calibration_holdout['frequency_cal'], \n",
    "    calibration_holdout['recency_cal'], \n",
    "    calibration_holdout['T_cal']\n",
    ").round(2)"
   ]
  },
  {
   "cell_type": "code",
   "execution_count": 11,
   "id": "9d3941c9",
   "metadata": {},
   "outputs": [
    {
     "data": {
      "text/html": [
       "<div>\n",
       "<style scoped>\n",
       "    .dataframe tbody tr th:only-of-type {\n",
       "        vertical-align: middle;\n",
       "    }\n",
       "\n",
       "    .dataframe tbody tr th {\n",
       "        vertical-align: top;\n",
       "    }\n",
       "\n",
       "    .dataframe thead th {\n",
       "        text-align: right;\n",
       "    }\n",
       "</style>\n",
       "<table border=\"1\" class=\"dataframe\">\n",
       "  <thead>\n",
       "    <tr style=\"text-align: right;\">\n",
       "      <th></th>\n",
       "      <th>pred_purchases</th>\n",
       "    </tr>\n",
       "    <tr>\n",
       "      <th>cust_id</th>\n",
       "      <th></th>\n",
       "    </tr>\n",
       "  </thead>\n",
       "  <tbody>\n",
       "    <tr>\n",
       "      <th>12346</th>\n",
       "      <td>2.78</td>\n",
       "    </tr>\n",
       "    <tr>\n",
       "      <th>12347</th>\n",
       "      <td>2.61</td>\n",
       "    </tr>\n",
       "    <tr>\n",
       "      <th>12348</th>\n",
       "      <td>0.55</td>\n",
       "    </tr>\n",
       "    <tr>\n",
       "      <th>12349</th>\n",
       "      <td>1.54</td>\n",
       "    </tr>\n",
       "    <tr>\n",
       "      <th>12351</th>\n",
       "      <td>NaN</td>\n",
       "    </tr>\n",
       "  </tbody>\n",
       "</table>\n",
       "</div>"
      ],
      "text/plain": [
       "         pred_purchases\n",
       "cust_id                \n",
       "12346              2.78\n",
       "12347              2.61\n",
       "12348              0.55\n",
       "12349              1.54\n",
       "12351               NaN"
      ]
     },
     "execution_count": 11,
     "metadata": {},
     "output_type": "execute_result"
    }
   ],
   "source": [
    "#these are the purchases the model predicted\n",
    "summary[['pred_purchases']].head()"
   ]
  },
  {
   "cell_type": "code",
   "execution_count": 59,
   "id": "178d3530",
   "metadata": {},
   "outputs": [
    {
     "data": {
      "image/png": "[encoded data removed]",
      "text/plain": [
       "<Figure size 640x480 with 1 Axes>"
      ]
     },
     "metadata": {},
     "output_type": "display_data"
    }
   ],
   "source": [
    "#evaluation our model, our model for the most part is lining up with our real numbers\n",
    "from lifetimes.plotting import plot_period_transactions\n",
    "\n",
    "_ = plot_period_transactions(bgf) "
   ]
  },
  {
   "cell_type": "code",
   "execution_count": 60,
   "id": "8aab89af",
   "metadata": {},
   "outputs": [],
   "source": [
    "calibration_holdout.fillna(0, inplace=True)\n",
    "\n",
    "# summary['monetary_value'] = summary['monetary_value'].apply(lambda x: 0.1 if x < 0.5 else x)\n",
    "# summary['predicted_purchases'] = summary['predicted_purchases'].apply(lambda x: 0.1 if x < 0.5 else x)"
   ]
  },
  {
   "cell_type": "code",
   "execution_count": 61,
   "id": "6d803f65",
   "metadata": {},
   "outputs": [
    {
     "name": "stdout",
     "output_type": "stream",
     "text": [
      "Mean Absolute Error (MAE): 0.9970749322900992\n",
      "Root Mean Squared Error (RMSE): 1.6340111064854992\n",
      "R-squared (R^2) Score: 0.535356961939057\n"
     ]
    }
   ],
   "source": [
    "#the model gets great scores\n",
    "\n",
    "mae = mean_absolute_error(calibration_holdout['frequency_holdout'], calibration_holdout['predicted_purchases_holdout'])\n",
    "rmse = np.sqrt(mean_squared_error(calibration_holdout['frequency_holdout'], calibration_holdout['predicted_purchases_holdout']))\n",
    "y_true = calibration_holdout['frequency_holdout']\n",
    "y_pred = calibration_holdout['predicted_purchases_holdout']\n",
    "\n",
    "r2 = r2_score(y_true, y_pred)\n",
    "\n",
    "print(f'Mean Absolute Error (MAE): {mae}')\n",
    "print(f'Root Mean Squared Error (RMSE): {rmse}')\n",
    "print(f\"R-squared (R^2) Score: {r2}\")"
   ]
  },
  {
   "cell_type": "code",
   "execution_count": 62,
   "id": "ebb08a71",
   "metadata": {},
   "outputs": [
    {
     "data": {
      "text/html": [
       "<div>\n",
       "<style scoped>\n",
       "    .dataframe tbody tr th:only-of-type {\n",
       "        vertical-align: middle;\n",
       "    }\n",
       "\n",
       "    .dataframe tbody tr th {\n",
       "        vertical-align: top;\n",
       "    }\n",
       "\n",
       "    .dataframe thead th {\n",
       "        text-align: right;\n",
       "    }\n",
       "</style>\n",
       "<table border=\"1\" class=\"dataframe\">\n",
       "  <thead>\n",
       "    <tr style=\"text-align: right;\">\n",
       "      <th></th>\n",
       "      <th>monetary_value</th>\n",
       "      <th>frequency</th>\n",
       "    </tr>\n",
       "  </thead>\n",
       "  <tbody>\n",
       "    <tr>\n",
       "      <th>monetary_value</th>\n",
       "      <td>1.000000</td>\n",
       "      <td>0.186686</td>\n",
       "    </tr>\n",
       "    <tr>\n",
       "      <th>frequency</th>\n",
       "      <td>0.186686</td>\n",
       "      <td>1.000000</td>\n",
       "    </tr>\n",
       "  </tbody>\n",
       "</table>\n",
       "</div>"
      ],
      "text/plain": [
       "                monetary_value  frequency\n",
       "monetary_value        1.000000   0.186686\n",
       "frequency             0.186686   1.000000"
      ]
     },
     "execution_count": 62,
     "metadata": {},
     "output_type": "execute_result"
    }
   ],
   "source": [
    "#to get clv and use gamma gamma we need to look at only returning customers, and correlation should be low\n",
    "returning_customers = summary[summary['frequency']>0]\n",
    "returning_customers[['monetary_value', 'frequency']].corr()"
   ]
  },
  {
   "cell_type": "code",
   "execution_count": 63,
   "id": "0d3c1bbe",
   "metadata": {},
   "outputs": [
    {
     "name": "stdout",
     "output_type": "stream",
     "text": [
      "<lifetimes.GammaGammaFitter: fitted with 2818 subjects, p: 2.21, q: 3.62, v: 501.98>\n"
     ]
    }
   ],
   "source": [
    "ggf = GammaGammaFitter(penalizer_coef = 0)\n",
    "ggf.fit(returning_customers['frequency'],\n",
    "        returning_customers['monetary_value'])\n",
    "print(ggf)"
   ]
  },
  {
   "cell_type": "code",
   "execution_count": 64,
   "id": "b6629b12",
   "metadata": {},
   "outputs": [],
   "source": [
    "returning_customers['est_trans_value'] = ggf.conditional_expected_average_profit(\n",
    "        returning_customers['frequency'],\n",
    "        returning_customers['monetary_value']\n",
    "    )"
   ]
  },
  {
   "cell_type": "code",
   "execution_count": 65,
   "id": "f68c1836",
   "metadata": {},
   "outputs": [],
   "source": [
    "returning_customers['clv'] = ggf.customer_lifetime_value(\n",
    "    bgf, #the model to use to predict the number of future transactions\n",
    "    returning_customers['frequency'],\n",
    "    returning_customers['recency'],\n",
    "    returning_customers['T'],\n",
    "    returning_customers['monetary_value'],\n",
    "    time=6, # months\n",
    "    discount_rate=0.01 # monthly discount rate ~ 12.7% annually\n",
    ")"
   ]
  },
  {
   "cell_type": "code",
   "execution_count": 66,
   "id": "a4303c75",
   "metadata": {},
   "outputs": [
    {
     "data": {
      "text/html": [
       "<div>\n",
       "<style scoped>\n",
       "    .dataframe tbody tr th:only-of-type {\n",
       "        vertical-align: middle;\n",
       "    }\n",
       "\n",
       "    .dataframe tbody tr th {\n",
       "        vertical-align: top;\n",
       "    }\n",
       "\n",
       "    .dataframe thead th {\n",
       "        text-align: right;\n",
       "    }\n",
       "</style>\n",
       "<table border=\"1\" class=\"dataframe\">\n",
       "  <thead>\n",
       "    <tr style=\"text-align: right;\">\n",
       "      <th></th>\n",
       "      <th>frequency</th>\n",
       "      <th>recency</th>\n",
       "      <th>T</th>\n",
       "      <th>monetary_value</th>\n",
       "      <th>pred_purchases</th>\n",
       "      <th>est_trans_value</th>\n",
       "      <th>clv</th>\n",
       "    </tr>\n",
       "    <tr>\n",
       "      <th>cust_id</th>\n",
       "      <th></th>\n",
       "      <th></th>\n",
       "      <th></th>\n",
       "      <th></th>\n",
       "      <th></th>\n",
       "      <th></th>\n",
       "      <th></th>\n",
       "    </tr>\n",
       "  </thead>\n",
       "  <tbody>\n",
       "    <tr>\n",
       "      <th>12346</th>\n",
       "      <td>6.0</td>\n",
       "      <td>196.0</td>\n",
       "      <td>382.0</td>\n",
       "      <td>47.143333</td>\n",
       "      <td>2.73</td>\n",
       "      <td>109.177684</td>\n",
       "      <td>287.819997</td>\n",
       "    </tr>\n",
       "    <tr>\n",
       "      <th>12347</th>\n",
       "      <td>1.0</td>\n",
       "      <td>37.0</td>\n",
       "      <td>61.0</td>\n",
       "      <td>711.790000</td>\n",
       "      <td>2.47</td>\n",
       "      <td>554.575835</td>\n",
       "      <td>1338.017710</td>\n",
       "    </tr>\n",
       "    <tr>\n",
       "      <th>12349</th>\n",
       "      <td>2.0</td>\n",
       "      <td>182.0</td>\n",
       "      <td>246.0</td>\n",
       "      <td>801.310000</td>\n",
       "      <td>1.58</td>\n",
       "      <td>660.029458</td>\n",
       "      <td>1001.937734</td>\n",
       "    </tr>\n",
       "    <tr>\n",
       "      <th>12352</th>\n",
       "      <td>1.0</td>\n",
       "      <td>17.0</td>\n",
       "      <td>49.0</td>\n",
       "      <td>200.050000</td>\n",
       "      <td>2.73</td>\n",
       "      <td>320.759930</td>\n",
       "      <td>860.797932</td>\n",
       "    </tr>\n",
       "    <tr>\n",
       "      <th>12356</th>\n",
       "      <td>2.0</td>\n",
       "      <td>44.0</td>\n",
       "      <td>81.0</td>\n",
       "      <td>1325.905000</td>\n",
       "      <td>3.38</td>\n",
       "      <td>989.068913</td>\n",
       "      <td>3330.518236</td>\n",
       "    </tr>\n",
       "    <tr>\n",
       "      <th>...</th>\n",
       "      <td>...</td>\n",
       "      <td>...</td>\n",
       "      <td>...</td>\n",
       "      <td>...</td>\n",
       "      <td>...</td>\n",
       "      <td>...</td>\n",
       "      <td>...</td>\n",
       "    </tr>\n",
       "    <tr>\n",
       "      <th>18276</th>\n",
       "      <td>4.0</td>\n",
       "      <td>337.0</td>\n",
       "      <td>386.0</td>\n",
       "      <td>275.652500</td>\n",
       "      <td>1.90</td>\n",
       "      <td>309.250222</td>\n",
       "      <td>564.417372</td>\n",
       "    </tr>\n",
       "    <tr>\n",
       "      <th>18277</th>\n",
       "      <td>2.0</td>\n",
       "      <td>97.0</td>\n",
       "      <td>151.0</td>\n",
       "      <td>366.265000</td>\n",
       "      <td>2.28</td>\n",
       "      <td>387.158063</td>\n",
       "      <td>859.462839</td>\n",
       "    </tr>\n",
       "    <tr>\n",
       "      <th>18283</th>\n",
       "      <td>4.0</td>\n",
       "      <td>276.0</td>\n",
       "      <td>315.0</td>\n",
       "      <td>135.105000</td>\n",
       "      <td>2.25</td>\n",
       "      <td>200.900160</td>\n",
       "      <td>437.135654</td>\n",
       "    </tr>\n",
       "    <tr>\n",
       "      <th>18286</th>\n",
       "      <td>1.0</td>\n",
       "      <td>247.0</td>\n",
       "      <td>380.0</td>\n",
       "      <td>833.480000</td>\n",
       "      <td>0.69</td>\n",
       "      <td>610.176447</td>\n",
       "      <td>389.909432</td>\n",
       "    </tr>\n",
       "    <tr>\n",
       "      <th>18287</th>\n",
       "      <td>2.0</td>\n",
       "      <td>189.0</td>\n",
       "      <td>228.0</td>\n",
       "      <td>637.050000</td>\n",
       "      <td>1.68</td>\n",
       "      <td>557.001368</td>\n",
       "      <td>899.469272</td>\n",
       "    </tr>\n",
       "  </tbody>\n",
       "</table>\n",
       "<p>2818 rows × 7 columns</p>\n",
       "</div>"
      ],
      "text/plain": [
       "         frequency  recency      T  monetary_value  pred_purchases  \\\n",
       "cust_id                                                              \n",
       "12346          6.0    196.0  382.0       47.143333            2.73   \n",
       "12347          1.0     37.0   61.0      711.790000            2.47   \n",
       "12349          2.0    182.0  246.0      801.310000            1.58   \n",
       "12352          1.0     17.0   49.0      200.050000            2.73   \n",
       "12356          2.0     44.0   81.0     1325.905000            3.38   \n",
       "...            ...      ...    ...             ...             ...   \n",
       "18276          4.0    337.0  386.0      275.652500            1.90   \n",
       "18277          2.0     97.0  151.0      366.265000            2.28   \n",
       "18283          4.0    276.0  315.0      135.105000            2.25   \n",
       "18286          1.0    247.0  380.0      833.480000            0.69   \n",
       "18287          2.0    189.0  228.0      637.050000            1.68   \n",
       "\n",
       "         est_trans_value          clv  \n",
       "cust_id                                \n",
       "12346         109.177684   287.819997  \n",
       "12347         554.575835  1338.017710  \n",
       "12349         660.029458  1001.937734  \n",
       "12352         320.759930   860.797932  \n",
       "12356         989.068913  3330.518236  \n",
       "...                  ...          ...  \n",
       "18276         309.250222   564.417372  \n",
       "18277         387.158063   859.462839  \n",
       "18283         200.900160   437.135654  \n",
       "18286         610.176447   389.909432  \n",
       "18287         557.001368   899.469272  \n",
       "\n",
       "[2818 rows x 7 columns]"
      ]
     },
     "execution_count": 66,
     "metadata": {},
     "output_type": "execute_result"
    }
   ],
   "source": [
    "# predictions for next 6 months of purchases, est_trans_value and clv now included\n",
    "\n",
    "returning_customers"
   ]
  },
  {
   "cell_type": "code",
   "execution_count": 67,
   "id": "46a5cae1",
   "metadata": {},
   "outputs": [],
   "source": [
    "returning_customers.to_csv('returning_customers.csv', index=False)"
   ]
  },
  {
   "cell_type": "code",
   "execution_count": 68,
   "id": "70a12bf4",
   "metadata": {},
   "outputs": [
    {
     "data": {
      "text/html": [
       "<div>\n",
       "<style scoped>\n",
       "    .dataframe tbody tr th:only-of-type {\n",
       "        vertical-align: middle;\n",
       "    }\n",
       "\n",
       "    .dataframe tbody tr th {\n",
       "        vertical-align: top;\n",
       "    }\n",
       "\n",
       "    .dataframe thead th {\n",
       "        text-align: right;\n",
       "    }\n",
       "</style>\n",
       "<table border=\"1\" class=\"dataframe\">\n",
       "  <thead>\n",
       "    <tr style=\"text-align: right;\">\n",
       "      <th></th>\n",
       "      <th>frequency</th>\n",
       "      <th>recency</th>\n",
       "      <th>T</th>\n",
       "      <th>monetary_value</th>\n",
       "      <th>pred_purchases</th>\n",
       "      <th>est_trans_value</th>\n",
       "      <th>clv</th>\n",
       "    </tr>\n",
       "  </thead>\n",
       "  <tbody>\n",
       "    <tr>\n",
       "      <th>count</th>\n",
       "      <td>2818.000000</td>\n",
       "      <td>2818.000000</td>\n",
       "      <td>2818.000000</td>\n",
       "      <td>2818.000000</td>\n",
       "      <td>2818.000000</td>\n",
       "      <td>2818.000000</td>\n",
       "      <td>2818.000000</td>\n",
       "    </tr>\n",
       "    <tr>\n",
       "      <th>mean</th>\n",
       "      <td>4.502129</td>\n",
       "      <td>205.538325</td>\n",
       "      <td>285.853797</td>\n",
       "      <td>415.410091</td>\n",
       "      <td>2.639045</td>\n",
       "      <td>428.154584</td>\n",
       "      <td>1277.388278</td>\n",
       "    </tr>\n",
       "    <tr>\n",
       "      <th>std</th>\n",
       "      <td>6.959299</td>\n",
       "      <td>111.475772</td>\n",
       "      <td>101.380366</td>\n",
       "      <td>453.069984</td>\n",
       "      <td>2.821505</td>\n",
       "      <td>352.089976</td>\n",
       "      <td>4124.552573</td>\n",
       "    </tr>\n",
       "    <tr>\n",
       "      <th>min</th>\n",
       "      <td>1.000000</td>\n",
       "      <td>1.000000</td>\n",
       "      <td>28.000000</td>\n",
       "      <td>7.900000</td>\n",
       "      <td>0.670000</td>\n",
       "      <td>43.814285</td>\n",
       "      <td>121.552295</td>\n",
       "    </tr>\n",
       "    <tr>\n",
       "      <th>25%</th>\n",
       "      <td>1.000000</td>\n",
       "      <td>113.000000</td>\n",
       "      <td>221.000000</td>\n",
       "      <td>196.471250</td>\n",
       "      <td>1.220000</td>\n",
       "      <td>283.057849</td>\n",
       "      <td>404.530589</td>\n",
       "    </tr>\n",
       "    <tr>\n",
       "      <th>50%</th>\n",
       "      <td>3.000000</td>\n",
       "      <td>214.000000</td>\n",
       "      <td>311.000000</td>\n",
       "      <td>311.660000</td>\n",
       "      <td>1.920000</td>\n",
       "      <td>353.302325</td>\n",
       "      <td>665.633675</td>\n",
       "    </tr>\n",
       "    <tr>\n",
       "      <th>75%</th>\n",
       "      <td>5.000000</td>\n",
       "      <td>304.000000</td>\n",
       "      <td>381.000000</td>\n",
       "      <td>473.963036</td>\n",
       "      <td>3.097500</td>\n",
       "      <td>457.340747</td>\n",
       "      <td>1151.304905</td>\n",
       "    </tr>\n",
       "    <tr>\n",
       "      <th>max</th>\n",
       "      <td>127.000000</td>\n",
       "      <td>373.000000</td>\n",
       "      <td>395.000000</td>\n",
       "      <td>8416.400000</td>\n",
       "      <td>50.690000</td>\n",
       "      <td>8043.319950</td>\n",
       "      <td>132624.875526</td>\n",
       "    </tr>\n",
       "  </tbody>\n",
       "</table>\n",
       "</div>"
      ],
      "text/plain": [
       "         frequency      recency            T  monetary_value  pred_purchases  \\\n",
       "count  2818.000000  2818.000000  2818.000000     2818.000000     2818.000000   \n",
       "mean      4.502129   205.538325   285.853797      415.410091        2.639045   \n",
       "std       6.959299   111.475772   101.380366      453.069984        2.821505   \n",
       "min       1.000000     1.000000    28.000000        7.900000        0.670000   \n",
       "25%       1.000000   113.000000   221.000000      196.471250        1.220000   \n",
       "50%       3.000000   214.000000   311.000000      311.660000        1.920000   \n",
       "75%       5.000000   304.000000   381.000000      473.963036        3.097500   \n",
       "max     127.000000   373.000000   395.000000     8416.400000       50.690000   \n",
       "\n",
       "       est_trans_value            clv  \n",
       "count      2818.000000    2818.000000  \n",
       "mean        428.154584    1277.388278  \n",
       "std         352.089976    4124.552573  \n",
       "min          43.814285     121.552295  \n",
       "25%         283.057849     404.530589  \n",
       "50%         353.302325     665.633675  \n",
       "75%         457.340747    1151.304905  \n",
       "max        8043.319950  132624.875526  "
      ]
     },
     "execution_count": 68,
     "metadata": {},
     "output_type": "execute_result"
    }
   ],
   "source": [
    "returning_customers.describe()"
   ]
  },
  {
   "cell_type": "markdown",
   "id": "f0131421",
   "metadata": {},
   "source": [
    "Most returning customers in the last year made about 5 purchases. Most of their last purchases were 200-300 days ago, around Christmas time. The average revenue generated by each customer per transaction sits around $440.\n",
    "\n",
    "Since we only have historical data for one year of purchases, I decided to use the model to make predictions focused on the next 6 months."
   ]
  },
  {
   "cell_type": "code",
   "execution_count": null,
   "id": "84395090",
   "metadata": {},
   "outputs": [],
   "source": [
    "X_train, X_test, y_train, y_test = train_test_split(returning_customers[['frequency', 'recency', 'T','monetary_value']], returning_customers['clv'], test_size=0.2)"
   ]
  },
  {
   "cell_type": "code",
   "execution_count": null,
   "id": "2d47a384",
   "metadata": {},
   "outputs": [],
   "source": [
    "linreg = LinearRegression()\n",
    "\n",
    "# fit the model to the training data (learn the coefficients)\n",
    "linreg.fit(X_train, y_train)\n",
    "\n",
    "# make predictions on the testing set\n",
    "y_pred = linreg.predict(X_test)"
   ]
  },
  {
   "cell_type": "code",
   "execution_count": null,
   "id": "8525cbb8",
   "metadata": {},
   "outputs": [],
   "source": [
    "#terrible scores for linreg\n",
    "\n",
    "print(\"R2:\",metrics.r2_score(y_test, y_pred))\n",
    "\n",
    "# calculate MAE using scikit-learn\n",
    "print(\"MAE:\",metrics.mean_absolute_error(y_test,y_pred))\n",
    "\n",
    "#calculate mean squared error\n",
    "print(\"MSE\",metrics.mean_squared_error(y_test, y_pred))\n",
    "# compute the RMSE of our predictions\n",
    "print(\"RMSE:\",np.sqrt(metrics.mean_squared_error(y_test, y_pred)))\n"
   ]
  },
  {
   "cell_type": "code",
   "execution_count": null,
   "id": "f7b5afe0",
   "metadata": {},
   "outputs": [],
   "source": [
    "# Initialize the BetaGeoFitter model\n",
    "bgf = BetaGeoFitter()\n",
    "\n",
    "# Define the parameter grid\n",
    "param_grid = {\n",
    "    'penalizer_coef': [0.0, 0.01, 0.1, 0.5, 1.0, 5.0, 10.0],\n",
    "    'alpha': [0.0, 0.1, 1.0, 5.0, 10.0, 50.0, 100.0],\n",
    "    'beta': [0.0, 0.1, 1.0, 5.0, 10.0, 50.0, 100.0],\n",
    "    'r': [0.0, 0.1, 0.5, 1.0, 5.0, 10.0, 50.0, 100.0]\n",
    "}\n",
    "\n",
    "# Define scoring metric (negative log likelihood is common for lifetimes models)\n",
    "scoring = metrics.get_scorer_names()\n",
    "\n",
    "# Initialize GridSearchCV with the model, parameter grid, and scoring\n",
    "grid_search = GridSearchCV(estimator=bgf, param_grid=param_grid, scoring=scoring, cv=5, refit=False)"
   ]
  },
  {
   "cell_type": "code",
   "execution_count": null,
   "id": "3e21e4cb",
   "metadata": {},
   "outputs": [],
   "source": [
    "# Fit the grid search to find the best parameters\n",
    "\n",
    "values= returning_customers['frequency'], returning_customers['recency'], returning_customers['T']\n",
    "grid_search.fit(values)\n",
    "\n",
    "# Print the best parameters and the best score\n",
    "print(\"Best Parameters:\", grid_search.best_params_)\n",
    "print(\"Best {}:\".format(scoring), grid_search.best_score_)"
   ]
  },
  {
   "cell_type": "code",
   "execution_count": null,
   "id": "6bebb36f",
   "metadata": {},
   "outputs": [],
   "source": [
    "#my data is not poisson distribution\n",
    "\n",
    "plt.figure(figsize=(8, 6))\n",
    "plt.hist(summary['frequency'], bins=20, density=True, alpha=0.7, color='blue')\n",
    "plt.xlabel('Frequency')\n",
    "plt.ylabel('Density')\n",
    "plt.title('Histogram of Frequency')\n",
    "plt.grid(True)\n",
    "plt.show()\n",
    "\n",
    "data = summary['frequency']\n",
    "\n",
    "lambda_est = data.mean()\n",
    "dist = poisson(mu=lambda_est)\n",
    "\n",
    "# Perform the Kolmogorov-Smirnov test\n",
    "ks_statistic, p_value = kstest(data, dist.cdf)\n",
    "\n",
    "print(f\"Kolmogorov-Smirnov test statistic: {ks_statistic}\")\n",
    "print(f\"P-value: {p_value}\")"
   ]
  }
 ],
 "metadata": {
  "kernelspec": {
   "display_name": "Python 3 (ipykernel)",
   "language": "python",
   "name": "python3"
  },
  "language_info": {
   "codemirror_mode": {
    "name": "ipython",
    "version": 3
   },
   "file_extension": ".py",
   "mimetype": "text/x-python",
   "name": "python",
   "nbconvert_exporter": "python",
   "pygments_lexer": "ipython3",
   "version": "3.11.7"
  }
 },
 "nbformat": 4,
 "nbformat_minor": 5
}
